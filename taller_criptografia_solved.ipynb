{
 "cells": [
  {
   "cell_type": "markdown",
   "metadata": {},
   "source": [
    "# **Criptografía Cuántica**\n",
    "\n",
    "Este taller se enfocará en el famoso protocolo de criptografía cuántica \"BB84\", publicado por Charles Bennett y Gilles Brassard en 1984. El principal objetivo del protocolo es crear una clave secreta entre dos individuos, Alice y Bob, la que luego podran usar para encriptar y desencriptar un mensaje oculto.\n",
    "\n",
    "Durante el taller, te guiaremos a través de los diferentes pasos del protocolo para crear dicha clave secreta que permita descifrar nuestro mensaje oculto.\n",
    "\n",
    "## Protocolo BB84\n",
    "\n",
    "Los pasos del protocolo son los siguientes:\n",
    "\n",
    "1. Primero, Alice elige dos cadenas de bit aleatorias, $k$ y $b$, donde cada una consta de $n$ bits. Su cadena de bits $k$ contiene los bits que ella desea codificar (con los cuales formará posteriormente la llave), mientras que $b$ determina las bases en la cual ella codificará sus bits. Entonces, para $b_i = 0$, ella codifica el i-ésimo qubit en la base Z o base computacional, por lo que si $k_i = 0$ el estado que ella envía es $|0\\rangle$, y si $k_i=1$, ella envía el estado $|1\\rangle $. Mientras que para $b_i=1$, ella codifica el i-ésimo qubit en la base X, por lo cual, para $k_i = 0$ ella envía $|+\\rangle$ y para $k_i=1$, ella envía $|-\\rangle$. \n",
    "\n",
    "Para hacerlo más ilustrativo, representamos cada base con dos flechas perpendiculares de la siguiente forma\n",
    "\n",
    "                IMAGEN\n",
    "\n",
    "2. Una vez que Alice termina de codificar sus $n$ qubits, ella los envía a Bob. Por el lado de Bob, este también elige una cadena aleatoria de bits $\\tilde{b}$ formada de $n$ bits que determina en qué bases va a realizar sus medidas. Él almacena los resultados de sus mediciones $\\tilde{k}_i$ en una tabla juntos con los correspondientes bits $\\tilde{b}_i$.\n",
    "\n",
    "3. Por último, Alice y Bob comparan sus bits $b_i $ y $\\tilde{b}_i$, con los que escogieron sus respectivas bases. Siempre que $b_i \\neq \\tilde{b}_i$, Bob midió en una base distinta a la que Alice codificó su qubit, por lo que obtiene cada resultado con probabilidad $\\frac{1}{2}$. Sin embargo, si $b_i = \\tilde{b}_i$, prepararon y midieron el qubit en la misma base, por lo que (a menos que alguien haya espiado) Bob obtendrá los bits de la clave que Alice codificó, $\\tilde{k}_i = k_i$. Estos bits son los que componen entonces la clave.\n",
    "\n",
    "En resumen, BB84 se puede ejemplicar de la siguiente manera\n",
    "\n",
    "                IMAGEN\n",
    "\n",
    "\n",
    "## **Ejercicio 1: BB84 ideal**\n",
    "\n",
    "En primer lugar, veremos cómo el protocolo funciona cuando no hay nadie interceptando el mensaje entre Alice y Bob. Luego, veremos cómo ellos pueden detectar la presencia de este espía malicioso.\n",
    "\n",
    "Como siempre, comenzaremos importando los módulos que necesitaremos durante el tutorial"
   ]
  },
  {
   "cell_type": "code",
   "execution_count": 1,
   "metadata": {},
   "outputs": [],
   "source": [
    "#  Importamos los módulos que necesitaremos para realizar el ejercicio\n",
    "from qiskit import QuantumCircuit, Aer\n",
    "from qiskit.visualization import plot_histogram\n",
    "from numpy.random import randint\n",
    "import numpy as np"
   ]
  },
  {
   "cell_type": "markdown",
   "metadata": {},
   "source": [
    "## Paso 1\n",
    "\n",
    "Alice primero debe generar de forma aleatoria sus cadenas de bits $k$ y $b$, a las que llamaremos `alice_bits` y `alice_bases`, respectivamente. Para esto, utilizamos la función `randint` de numpy para generar claves pseudo aleatorias"
   ]
  },
  {
   "cell_type": "code",
   "execution_count": 2,
   "metadata": {},
   "outputs": [
    {
     "name": "stdout",
     "output_type": "stream",
     "text": [
      "[0 1 1 0 1 1 1 1 1 1 1 0 0 1 0 0 0 0 0 1 0 1 1 0 0 1 1 1 1 0 1 0 1 0 1 1 0\n",
      " 1 1 0 0 1 0 1 1 1 1 1 0 1 0 1 1 1 1 0 1 0 0 1 1 0 1 0 1 0 0 0 0 0 1 1 0 0\n",
      " 0 1 1 0 1 0 0 1 0 1 1 1 1 1 1 0 1 1 0 0 1 0 0 1 1 0]\n"
     ]
    }
   ],
   "source": [
    "# Inicializamos una distribución aleatoria\n",
    "np.random.seed(seed=0)\n",
    "\n",
    "n = 100 # Largo de la cadena de bits \n",
    "\n",
    "#  Generamos la cadena de bits aleatorios k de Alice\n",
    "alice_bits = randint(2, size= n)\n",
    "\n",
    "#  Generamos la cadena de bit aleatorios b de Alice\n",
    "alice_bases = randint(2, size= n)\n",
    "\n",
    "print(alice_bits)"
   ]
  },
  {
   "cell_type": "markdown",
   "metadata": {},
   "source": [
    "## Paso 2 \n",
    "\n",
    "A continuación deberás completar la función `alice_prepare_qubit` que crea una lista `qubit`, donde cada elemento reresenta el qubit que es enviado por alice. Las entradas de esta función son `bits` correspondientes a los bits que codifica Alice y `bases`, con la cadena de bits con que Alice prepara las bases.\n",
    "\n",
    "**HINT:** Recuerda que si el bit en `alice_bases` es `0`, implica preparar el estado en la base $Z$, mientras que si es `1`, Alice prepara el estado en la base $X$."
   ]
  },
  {
   "cell_type": "code",
   "execution_count": 3,
   "metadata": {},
   "outputs": [],
   "source": [
    "def alice_prepare_qubit(bits, bases):\n",
    "    ''' \n",
    "    Inputs:\n",
    "        bits (list) : bit string k\n",
    "        bases (list): bit string b\n",
    "    Outputs:\n",
    "        qubit (list): contains the circuit that generates each Alice's \n",
    "                state according k and b.\n",
    "    ''' \n",
    "    qubit = []\n",
    "    for i in range(n):\n",
    "        qc = QuantumCircuit(1,1)\n",
    "# ------------------------------------------------\n",
    "        # Prepara los qubits en la base Z\n",
    "        if bases[i] == 0: \n",
    "            if bits[i] ==0:\n",
    "                pass\n",
    "            else:\n",
    "                qc.x(0)\n",
    "        # Prepara los qubits en la base X\n",
    "        else: \n",
    "            if bits[0]==0:\n",
    "                qc.h(0)\n",
    "            else:\n",
    "                qc.x(0)\n",
    "                qc.h(0)\n",
    "# ------------------------------------------------\n",
    "        qc.barrier()\n",
    "        qubit.append(qc)\n",
    "    return qubit"
   ]
  },
  {
   "cell_type": "markdown",
   "metadata": {},
   "source": [
    "Notemos que el primer bit en `alice_bits` es `0`, y se codifica en la base $X$"
   ]
  },
  {
   "cell_type": "code",
   "execution_count": 4,
   "metadata": {},
   "outputs": [
    {
     "name": "stdout",
     "output_type": "stream",
     "text": [
      "bit = 0\n",
      "basis = 1\n"
     ]
    }
   ],
   "source": [
    "print('bit = %i' % alice_bits[0])\n",
    "print('basis = %i' % alice_bases[0])"
   ]
  },
  {
   "cell_type": "markdown",
   "metadata": {},
   "source": [
    "por lo que el circuito del protocolo se ve de la siguiente manera"
   ]
  },
  {
   "cell_type": "code",
   "execution_count": 5,
   "metadata": {},
   "outputs": [
    {
     "data": {
      "image/png": "[encoded data removed]",
      "text/plain": [
       "<Figure size 269.064x200.667 with 1 Axes>"
      ]
     },
     "execution_count": 5,
     "metadata": {},
     "output_type": "execute_result"
    }
   ],
   "source": [
    "#Aplicamos la función recien creada a todos los bits aleatorios de Alice\n",
    "protocol = alice_prepare_qubit(alice_bits, alice_bases)\n",
    "protocol[0].draw(output='mpl')"
   ]
  },
  {
   "cell_type": "markdown",
   "metadata": {},
   "source": [
    "Como otro ejemplo, podemos ver"
   ]
  },
  {
   "cell_type": "code",
   "execution_count": 6,
   "metadata": {},
   "outputs": [
    {
     "name": "stdout",
     "output_type": "stream",
     "text": [
      "bit = 1\n",
      "basis = 0\n"
     ]
    },
    {
     "data": {
      "image/png": "[encoded data removed]",
      "text/plain": [
       "<Figure size 269.064x200.667 with 1 Axes>"
      ]
     },
     "execution_count": 6,
     "metadata": {},
     "output_type": "execute_result"
    }
   ],
   "source": [
    "bit_index = 4\n",
    "print('bit = %i' % alice_bits[bit_index])\n",
    "print('basis = %i' % alice_bases[bit_index])\n",
    "protocol[bit_index].draw(output='mpl')"
   ]
  },
  {
   "cell_type": "markdown",
   "metadata": {},
   "source": [
    "## Paso 3\n",
    "\n",
    "Generamos una cadena aleatoria $\\tilde{b}$ para Bob que llamaremos `bob_bases` y que determinará en qué base realizará su medida"
   ]
  },
  {
   "cell_type": "code",
   "execution_count": 7,
   "metadata": {},
   "outputs": [
    {
     "name": "stdout",
     "output_type": "stream",
     "text": [
      "[1 0 1 0 0 1 1 0 0 0 1 1 0 0 0 0 0 1 0 1 0 0 0 1 1 1 0 0 1 1 1 1 0 0 0 1 1\n",
      " 0 1 0 0 1 0 1 1 1 1 0 0 0 1 1 1 0 1 1 1 1 0 0 1 1 0 0 0 1 1 0 1 1 1 1 1 0\n",
      " 0 0 1 0 1 0 1 1 0 0 0 1 0 0 1 1 1 1 0 1 0 0 0 0 1 1]\n"
     ]
    }
   ],
   "source": [
    "bob_bases = randint(2 , size = n)\n",
    "print(bob_bases)"
   ]
  },
  {
   "cell_type": "markdown",
   "metadata": {},
   "source": [
    "Ahora deberás completar la función `measure_qubit` que aplica la medida de Bob y simula el resultado de cada qubit. "
   ]
  },
  {
   "cell_type": "code",
   "execution_count": 8,
   "metadata": {},
   "outputs": [],
   "source": [
    "def measure_qubit(circuit, bases):\n",
    "    measurements = []\n",
    "# ------------------------------------------------\n",
    "    for i in range(n):\n",
    "        if bases[i] == 0:\n",
    "            circuit[i].measure(0,0) # Meidmos en la base Z\n",
    "        if bases[i] == 1:\n",
    "            circuit[i].h(0)\n",
    "            circuit[i].measure(0,0)\n",
    "# ------------------------------------------------\n",
    "        #  Realizamos la simulación\n",
    "        aer_sim = Aer.get_backend('aer_simulator')\n",
    "        result = aer_sim.run(circuit[i], shots=1, memory = True).result()\n",
    "        measured_bit = int(result.get_memory()[0])\n",
    "        measurements.append(measured_bit)\n",
    "    return measurements"
   ]
  },
  {
   "cell_type": "markdown",
   "metadata": {},
   "source": [
    "Al aplicar la función, obtenmos el siguiente circuito"
   ]
  },
  {
   "cell_type": "code",
   "execution_count": 9,
   "metadata": {},
   "outputs": [
    {
     "data": {
      "image/png": "[encoded data removed]",
      "text/plain": [
       "<Figure size 436.286x200.667 with 1 Axes>"
      ]
     },
     "execution_count": 9,
     "metadata": {},
     "output_type": "execute_result"
    }
   ],
   "source": [
    "#Medicion de Bob\n",
    "bob_results = measure_qubit(protocol, bob_bases)\n",
    "protocol[0].draw(output='mpl')"
   ]
  },
  {
   "cell_type": "markdown",
   "metadata": {},
   "source": [
    "Como Bob elegió la misma base que Alice, aseguramos que obtiene el resultado `0`. Sin embargo, pudo haber pasado que la elección aleatoria de Bob no fuese la misma de Alice, por lo que Bob tendría un $50 \\%$ de coincidir con el bit que quiso enviar Alice, como es en el siguiente caso"
   ]
  },
  {
   "cell_type": "code",
   "execution_count": 10,
   "metadata": {},
   "outputs": [
    {
     "data": {
      "image/png": "[encoded data removed]",
      "text/plain": [
       "<Figure size 700x500 with 1 Axes>"
      ]
     },
     "execution_count": 10,
     "metadata": {},
     "output_type": "execute_result"
    }
   ],
   "source": [
    "protocol[6].draw(output='mpl')\n",
    "aer_sim = Aer.get_backend('aer_simulator')\n",
    "job = aer_sim.run(protocol[6])\n",
    "plot_histogram(job.result().get_counts())"
   ]
  },
  {
   "cell_type": "markdown",
   "metadata": {},
   "source": [
    "## Paso 4\n",
    "\n",
    "Alice hace público las bases en que codificó sus qubits y Bob revela en qué base los midió. Deberás completar la función `remove_garbage` que descartará los bits cuando no se cumple $b_i = \\tilde{b}_i$. En el caso que la última condición sí se cumpla, deberás añadir los bits a la lista `good_bits`"
   ]
  },
  {
   "cell_type": "code",
   "execution_count": 41,
   "metadata": {},
   "outputs": [],
   "source": [
    "def remove_garbage(alice_bases, bob_bases, bits):\n",
    "    good_bits = []\n",
    "#--------------------------------------------------------\n",
    "    for i in range(n):\n",
    "        if alice_bases[i] == bob_bases[i]:\n",
    "            good_bits.append(bits[i])\n",
    "#--------------------------------------------------------\n",
    "    return good_bits"
   ]
  },
  {
   "cell_type": "markdown",
   "metadata": {},
   "source": [
    "De esta forma, Alice y Bob descartan los bits que no utilizarán, quedando así los bits que formarán parte de la clave secreta"
   ]
  },
  {
   "cell_type": "code",
   "execution_count": 44,
   "metadata": {},
   "outputs": [
    {
     "name": "stdout",
     "output_type": "stream",
     "text": [
      "[0, 1, 1, 0, 0, 0, 0, 0, 1, 0, 1, 1, 0, 0, 0, 1, 0, 1, 1, 1, 0, 0, 1, 0, 0, 0, 0, 1, 0, 1, 1, 0, 0, 0, 0, 1, 0, 0, 1, 0, 1, 1, 1, 1, 1, 0, 1, 0]\n",
      "[0, 0, 1, 1, 0, 0, 1, 0, 0, 0, 1, 1, 1, 1, 0, 1, 0, 1, 1, 1, 0, 0, 0, 1, 0, 0, 0, 1, 0, 0, 0, 0, 1, 0, 0, 1, 0, 0, 0, 1, 1, 0, 1, 0, 1, 0, 1, 0]\n"
     ]
    }
   ],
   "source": [
    "#Alice y Bob remueven los qubit que no se van a utilizar\n",
    "alice_key = remove_garbage(alice_bases, bob_bases, alice_bits)\n",
    "print(alice_key)\n",
    "\n",
    "bob_key = remove_garbage(alice_bases, bob_bases, bob_results)\n",
    "print(bob_key)"
   ]
  },
  {
   "cell_type": "markdown",
   "metadata": {},
   "source": [
    "## Paso 5 \n",
    "\n",
    "Parte de la clave secreta de Alice y Bob se utilizan para verificar si comparten la misma cadena de bits. Para hacer esta comparación, utilizamos la función `sample_bits` con la que extraemos aleatoriamente un número de bits de la clave, que indicamos en `selection`"
   ]
  },
  {
   "cell_type": "code",
   "execution_count": 33,
   "metadata": {},
   "outputs": [],
   "source": [
    "def sample_bits(bits, selection):\n",
    "    sample = []\n",
    "    for i in selection:\n",
    "        # usamos np.mod para asegurarnos que el bit que escibimos siempre\n",
    "        # esté en la lista de rango:\n",
    "        i = np.mod(i,len(bits))\n",
    "        # pop(i) elimina el elemento de la lista con índice i\n",
    "        sample.append(bits.pop(i))\n",
    "    return sample"
   ]
  },
  {
   "cell_type": "markdown",
   "metadata": {},
   "source": [
    "Notar que Alice y Bob hacen pública esta muestra, pero como los bits ya no son secretos, no serán parte de la clave"
   ]
  },
  {
   "cell_type": "code",
   "execution_count": 34,
   "metadata": {},
   "outputs": [
    {
     "name": "stdout",
     "output_type": "stream",
     "text": [
      "  bob_sample = [1, 0, 0, 0, 0, 1, 1, 0, 1, 1, 1, 0, 0, 1, 1]\n",
      "alice_sample = [0, 0, 0, 0, 0, 1, 0, 0, 1, 1, 1, 0, 0, 0, 1]\n"
     ]
    }
   ],
   "source": [
    "# Alice y Bob comparan algunos bits para corroborar de que el protocolo funcionó\n",
    "sample_size = 15\n",
    "bit_selection = randint(n, size=sample_size)\n",
    "\n",
    "bob_sample = sample_bits(bob_key, bit_selection)\n",
    "alice_sample = sample_bits(alice_key, bit_selection)\n",
    "\n",
    "print(\"  bob_sample = \" + str(bob_sample))\n",
    "print(\"alice_sample = \"+ str(alice_sample))"
   ]
  },
  {
   "cell_type": "markdown",
   "metadata": {},
   "source": [
    "Si el protocolo funcionó correctamente sin ninguna interferencia, las muestras (samples) de Alice y Bob deberían coincidir, por lo que la siguiente línea debería entegarnos el valor lógico `True`"
   ]
  },
  {
   "cell_type": "code",
   "execution_count": 15,
   "metadata": {},
   "outputs": [
    {
     "data": {
      "text/plain": [
       "True"
      ]
     },
     "execution_count": 15,
     "metadata": {},
     "output_type": "execute_result"
    }
   ],
   "source": [
    "bob_sample == alice_sample"
   ]
  },
  {
   "cell_type": "markdown",
   "metadata": {},
   "source": [
    "Si la anterior condición se cumplió, significa que (con alta probabilidad) `alice_key == bob_key`. De esta forma, Alice y Bob comparten una clave secreta que pueden usar para encriptar y desencriptar mensajes."
   ]
  },
  {
   "cell_type": "code",
   "execution_count": 16,
   "metadata": {},
   "outputs": [
    {
     "name": "stdout",
     "output_type": "stream",
     "text": [
      "[1, 0, 0, 1, 0, 0, 0, 0, 1, 0, 1, 0, 0, 0, 0, 0, 0, 0, 0, 0, 0, 0, 1, 0, 0, 0, 0, 1, 0, 0, 1, 0, 0]\n",
      "[1, 1, 0, 1, 0, 0, 1, 0, 1, 1, 1, 0, 1, 1, 1, 0, 1, 0, 0, 1, 0, 0, 1, 1, 0, 0, 0, 1, 1, 0, 1, 0, 0]\n",
      "El largo de la llave es 33\n"
     ]
    }
   ],
   "source": [
    "print(bob_key)\n",
    "print(alice_key)\n",
    "print(\"El largo de la llave es %i\" % len(alice_key))"
   ]
  },
  {
   "cell_type": "markdown",
   "metadata": {},
   "source": [
    "# **Ejercicio 2: Eve al ataque**"
   ]
  },
  {
   "cell_type": "markdown",
   "metadata": {},
   "source": [
    "Veamos ahora cómo Alice y Bob pueden saber si un espía malicioso, que llamaremos Eve, ha estado intentando interceptar su mensaje. Luego que Alice realice el paso 1 y 2, y antes que que Bob reciba los qubits, Eve intentará extraer información de ellos. Establezcamos una semilla diferente para obtener un conjunto específico de resultados \"aleatorios\" reproducibles\n",
    "\n",
    "## Paso 1 y 2\n",
    "\n",
    "Al igual que en el ejercicio anterior, Alice genera dos cadenas de bits aletorias con las que prepara los qubits "
   ]
  },
  {
   "cell_type": "code",
   "execution_count": 17,
   "metadata": {},
   "outputs": [],
   "source": [
    "np.random.seed(seed=3)\n",
    "alice_bits = randint(2, size= n)\n",
    "alice_bases = randint(2, size= n)\n",
    "protocol = alice_prepare_qubit(alice_bits, alice_bases)"
   ]
  },
  {
   "cell_type": "markdown",
   "metadata": {},
   "source": [
    "En este caso, el primer qubit que Alice envía está en el estado $|+\\rangle$"
   ]
  },
  {
   "cell_type": "code",
   "execution_count": 18,
   "metadata": {},
   "outputs": [
    {
     "data": {
      "image/png": "[encoded data removed]",
      "text/plain": [
       "<Figure size 269.064x200.667 with 1 Axes>"
      ]
     },
     "execution_count": 18,
     "metadata": {},
     "output_type": "execute_result"
    }
   ],
   "source": [
    "protocol[0].draw(output=\"mpl\")"
   ]
  },
  {
   "cell_type": "markdown",
   "metadata": {},
   "source": [
    "### ¡Ataque!\n",
    "\n",
    "Eve intercepta los qubits que Alice envía públicamente y los mide con una selección aleatoria de bases, de la misma manera que Bob lo hará más adelante. "
   ]
  },
  {
   "cell_type": "code",
   "execution_count": 19,
   "metadata": {},
   "outputs": [
    {
     "name": "stdout",
     "output_type": "stream",
     "text": [
      "[0, 1, 1, 0, 0, 0, 0, 1, 1, 1, 1, 1, 1, 1, 0, 1, 0, 0, 0, 0, 1, 1, 1, 0, 1, 0, 1, 0, 1, 1, 0, 0, 1, 0, 0, 0, 1, 1, 0, 1, 1, 0, 0, 0, 1, 0, 1, 1, 0, 1, 0, 1, 0, 1, 1, 1, 0, 0, 0, 0, 0, 1, 1, 1, 0, 1, 0, 0, 1, 1, 0, 0, 0, 0, 1, 0, 1, 1, 1, 0, 0, 1, 0, 0, 0, 1, 1, 1, 0, 1, 0, 0, 1, 0, 1, 1, 1, 0, 0, 1]\n"
     ]
    }
   ],
   "source": [
    "# Generamos la cadena bits aleatorios de Eve\n",
    "eve_bases = randint(2, size = n)\n",
    "\n",
    "# Eve mide sujeto a eve_bases\n",
    "intercepted_message = measure_qubit(protocol, eve_bases)\n",
    "\n",
    "print(intercepted_message)"
   ]
  },
  {
   "cell_type": "markdown",
   "metadata": {},
   "source": [
    "Podemos ver que para el primer qubit la elección aleatoria de base de Eve no es la misma que la de Alice, y esto cambiará el estado del qubit de $|+\\rangle$, a un estado aleatorio en la base $Z$, con $50 \\%$ de probabilidad que sea $|0\\rangle$ ó $|1\\rangle$."
   ]
  },
  {
   "cell_type": "code",
   "execution_count": 20,
   "metadata": {},
   "outputs": [
    {
     "data": {
      "image/png": "[encoded data removed]",
      "text/plain": [
       "<Figure size 352.675x200.667 with 1 Axes>"
      ]
     },
     "execution_count": 20,
     "metadata": {},
     "output_type": "execute_result"
    }
   ],
   "source": [
    "protocol[0].draw(output=\"mpl\")"
   ]
  },
  {
   "cell_type": "markdown",
   "metadata": {},
   "source": [
    "## Paso 3\n",
    "\n",
    "Eve genera un qubit en su base y se lo envía a Bob para que lo mida. En este caso, Bob eligió (por casualidad) medir con la misma base en la que Alice preparó el qubit. Sin la intervención de Eve, se garantizaría que Bob mide 0, pero debido a que Eve intentó leer el mensaje, ahora tiene un $50 \\% $ de probabilidades de medir 1."
   ]
  },
  {
   "cell_type": "code",
   "execution_count": 21,
   "metadata": {},
   "outputs": [
    {
     "data": {
      "image/png": "[encoded data removed]",
      "text/plain": [
       "<Figure size 519.897x200.667 with 1 Axes>"
      ]
     },
     "execution_count": 21,
     "metadata": {},
     "output_type": "execute_result"
    }
   ],
   "source": [
    "bob_bases = randint(2, size = n)\n",
    "bob_results = measure_qubit(protocol, bob_bases)\n",
    "protocol[0].draw(output=\"mpl\")"
   ]
  },
  {
   "cell_type": "code",
   "execution_count": 22,
   "metadata": {},
   "outputs": [
    {
     "data": {
      "image/png": "[encoded data removed]",
      "text/plain": [
       "<Figure size 700x500 with 1 Axes>"
      ]
     },
     "execution_count": 22,
     "metadata": {},
     "output_type": "execute_result"
    }
   ],
   "source": [
    "aer_sim = Aer.get_backend('aer_simulator')\n",
    "job = aer_sim.run(protocol[0])\n",
    "plot_histogram(job.result().get_counts())"
   ]
  },
  {
   "cell_type": "markdown",
   "metadata": {},
   "source": [
    "## Paso 4\n",
    "\n",
    "Bob y Alice revelan las bases que seleccionaron y descartan los bits que no usaran"
   ]
  },
  {
   "cell_type": "code",
   "execution_count": 23,
   "metadata": {},
   "outputs": [],
   "source": [
    "bob_key = remove_garbage(alice_bases, bob_bases, bob_results)\n",
    "alice_key = remove_garbage(alice_bases, bob_bases, alice_bits)"
   ]
  },
  {
   "cell_type": "markdown",
   "metadata": {},
   "source": [
    "## Paso 5\n",
    "\n",
    "Bob y Alice comparan la misma selección aleatoria de sus claves para ver si su mensaje fue interceptado"
   ]
  },
  {
   "cell_type": "code",
   "execution_count": 24,
   "metadata": {},
   "outputs": [
    {
     "name": "stdout",
     "output_type": "stream",
     "text": [
      "  bob_sample = [1, 1, 0, 0, 1, 1, 0, 0, 1, 0, 0, 1, 1, 0, 1]\n",
      "alice_sample = [1, 1, 0, 0, 1, 0, 0, 0, 0, 0, 0, 1, 0, 0, 0]\n",
      "Is alice_key equal to bob_key? False\n"
     ]
    }
   ],
   "source": [
    "sample_size = 15\n",
    "bit_selection = randint(n, size=sample_size)\n",
    "bob_sample = sample_bits(bob_key, bit_selection)\n",
    "alice_sample = sample_bits(alice_key, bit_selection)\n",
    "\n",
    "print(\"  bob_sample = \" + str(bob_sample))\n",
    "print(\"alice_sample = \"+ str(alice_sample))\n",
    "print(\"Is alice_key equal to bob_key? \" + str(bob_sample == alice_sample)) "
   ]
  },
  {
   "cell_type": "markdown",
   "metadata": {},
   "source": [
    "¡La clave de Bob y Alice no coinciden! Sabemos que esto es porque Eve intentó obtener información de clave entre el paso 2 y 3, lo que cambió los estados de los qubits. Sin embargo, Alice y Bob podrían pensar que se debió al ruido en el medio que enviaron los qubits. De todas maneras, ellos descartarán esta clave y repetirán el protocolo de nuevo. El intento de intercepción de Eve ha fallado.\n",
    "\n",
    "\n",
    "# **Análisis del Riesgo**\n",
    "\n",
    "Para este tipo de intercepción, en el cual Eve mide todos los qubits, hay una pequeña posibilidad de que la muestra (sample) de Alice y Bob coincidad, y que Alice envié su mensaje con la presencia del espía malicioso, Eve. Vamos a calculas esta posibilidad y ver cuán arriesgado es hacer distribución de claves cuánticas.\n",
    "\n",
    "                    IMAGEN\n",
    "\n",
    "Si Alice y Bob utilizan 1 bit para la muestra, la probabildad de que sus claves coincidan en presencia de un espía es igual a 0.75. Si comparan 2 bits, la probabilidad decrece a $0.75^2 = 0.5625$. Podemos ver que la probabilidad de que Eve pase desapercibida decrece a medida que Alice y Bob aumentan el largo de su muestra, tal que\n",
    "\n",
    "$ P_\\text{indetectada} = 0.75^m$\n",
    "\n",
    "donde $m$ es el largo de la muestra.\n",
    "\n",
    "Si decidimos comparar 15 bits como hicimos anteriormente, hay un $1.3\\%$ de posibilidades de que Eve no sea detectada. Si esto nos parece demasiado arriesgado, podríamos comparar 50 bits en su lugar, y tendríamos un $0.00006\\%$ de posibilidades de ser espiados sin saberlo."
   ]
  },
  {
   "cell_type": "code",
   "execution_count": 80,
   "metadata": {},
   "outputs": [
    {
     "name": "stdout",
     "output_type": "stream",
     "text": [
      "La interferencia de Eve fue detectada.\n"
     ]
    }
   ],
   "source": [
    "np.random.seed(seed=4)\n",
    "n = 100\n",
    "# Paso 1\n",
    "alice_bits = randint(2, size=n)\n",
    "alice_bases = randint(2, size=n)\n",
    "# Paso 2\n",
    "protocol = alice_prepare_qubit(alice_bits, alice_bases)\n",
    "# Ataque!\n",
    "eve_bases = randint(2, size=n)\n",
    "intercepted_key = measure_qubit(protocol, eve_bases)\n",
    "# Paso 3\n",
    "bob_bases = randint(2, size=n)\n",
    "bob_results = measure_qubit(protocol, bob_bases)\n",
    "# Paso 4\n",
    "bob_key = remove_garbage(alice_bases, bob_bases, bob_results)\n",
    "alice_key = remove_garbage(alice_bases, bob_bases, alice_bits)\n",
    "# Step 5\n",
    "sample_size = 10 # Cambia esto a algo más bajo y mira si Eve\n",
    "                 # puede interceptar el mensaje sin que Alice\n",
    "                 # y Bob lo sepan\n",
    "bit_selection = randint(n, size=sample_size)\n",
    "bob_sample = sample_bits(bob_key, bit_selection)\n",
    "alice_sample = sample_bits(alice_key, bit_selection)\n",
    "\n",
    "if bob_sample != alice_sample:\n",
    "    print(\"La interferencia de Eve fue detectada.\")\n",
    "else:\n",
    "    print(\"Eve no fue detectada\")"
   ]
  },
  {
   "cell_type": "markdown",
   "metadata": {},
   "source": [
    "# **Encriptación del Mensaje**\n",
    "\n",
    "Una vez que la clave fue distribuida, Alice puede encriptar su mensaje usando la técnica one-time pad: ella simplemente suma los bits de la clave con los que ella quiere enviar. Por lo que si ella posee una clave $c$ y su mensaje lo codifica en una cadena de bits $m$, el mensaje encriptado será $e = m \\oplus c \\; \\text{mod} \\; 2$. Bob podrá desencriptar el mensaje añadiendo su clave al mensaje encriptado, tal que $m = e \\oplus c \\; \\text{mod} \\; 2$."
   ]
  }
 ],
 "metadata": {
  "kernelspec": {
   "display_name": "Python 3 (ipykernel)",
   "language": "python",
   "name": "python3"
  },
  "language_info": {
   "codemirror_mode": {
    "name": "ipython",
    "version": 3
   },
   "file_extension": ".py",
   "mimetype": "text/x-python",
   "name": "python",
   "nbconvert_exporter": "python",
   "pygments_lexer": "ipython3",
   "version": "3.11.1"
  }
 },
 "nbformat": 4,
 "nbformat_minor": 4
}
